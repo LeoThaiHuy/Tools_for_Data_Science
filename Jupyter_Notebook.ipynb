{
 "cells": [
  {
   "cell_type": "markdown",
   "metadata": {},
   "source": [
    "<center>\n",
    "    <img src=\"https://cf-courses-data.s3.us.cloud-object-storage.appdomain.cloud/IBMDeveloperSkillsNetwork-DS0105EN-SkillsNetwork/labs/Module2/images/SN_web_lightmode.png\" width=\"300\" alt=\"cognitiveclass.ai logo\">\n",
    "</center>\n"
   ]
  },
  {
   "cell_type": "markdown",
   "metadata": {},
   "source": [
    "#### Add your code below following the instructions given in the course\n"
   ]
  },
  {
   "cell_type": "markdown",
   "metadata": {},
   "source": [
    "<h1> My Jupyter Notebook on IBM Watson Studio </h1>"
   ]
  },
  {
   "cell_type": "markdown",
   "metadata": {},
   "source": [
    "<b> Nguyễn Thái Huy </b> \\\n",
    "Student"
   ]
  },
  {
   "cell_type": "markdown",
   "metadata": {},
   "source": [
    "<i> Data science is being utilised by organisations across all industries, which means there are many job opportunities available. Secondly, it is a field that offers a high degree of job satisfaction as you will be solving complex problems and making a real impact on businesses and society. </i>"
   ]
  },
  {
   "cell_type": "markdown",
   "metadata": {},
   "source": [
    "<h3> I use the double slash for integer division, where the result is rounded down to the nearest integer. </h3>"
   ]
  },
  {
   "cell_type": "code",
   "execution_count": 2,
   "metadata": {},
   "outputs": [
    {
     "data": {
      "text/plain": [
       "2"
      ]
     },
     "execution_count": 2,
     "metadata": {},
     "output_type": "execute_result"
    }
   ],
   "source": [
    "x = 2\n",
    "y = 5\n",
    "z = y//x\n",
    "z"
   ]
  },
  {
   "cell_type": "markdown",
   "metadata": {},
   "source": [
    "<h2>Chelsea transfer news and rumours: January transfer window 2023</h2>\n",
    "\n",
    "<h5>Transfer news, rumours and gossip from Stamford Bridge during the 2023 January transfer window; the window opened on Sunday 1 January 2023 and closed at 11pm on Tuesday 31 January</h5>\n",
    "<br>\n",
    "\n",
    "<blockquote cite=\"https://www.skysports.com/football/news/11065/12766915/chelsea-transfer-news-and-rumours-january-transfer-window-2023\">\n",
    "    Chelsea have signed midfielder Enzo Fernandez from Benfica for a British-record £106.8m. The deal for the Argentine surpasses the £100m Manchester City paid for Jack Grealish from Aston Villa 18 months ago. The 22-year-old, who only joined Benfica last summer for around £10m, has signed an eight-and-a-half-year deal at Stamford Bridge to keep him at the club until the summer of 2031.\n",
    "</blockquote>\n",
    "<br>\n",
    "<br>\n",
    "\n",
    "<center><img src=\"https://img.chelseafc.com//image/upload/f_auto,q_auto:best,f_auto,q_90,w_1440,c_fill,g_faces/The%205th%20Stand%20app%20editorial/Players%20stock/Enzo%20Fernandez/DSC_2466-Edit.jpg\" alt=\"Enzo Fernandez in Chelsea Blue\" class=\"center\" width=\"600x\" height=\"903x\">\n",
    "<br>\n",
    "<caption><i>Enzo Fernandez in Chelsea Blue</i></caption>\n",
    "</center>\n",
    "<br>\n",
    "<br>\n",
    "\n",
    "<table>\n",
    "    <caption><b><font size=\"+1\">Most expensive signings in British football</font></b></caption>\n",
    "  <tr>\n",
    "    <th>Player</th>\n",
    "    <th>Fee (year)</th>\n",
    "    <th>Club joining</th>\n",
    "    <th>Club leaving</th>\n",
    "  </tr>\n",
    "  <tr>\n",
    "    <td>Enzo Fernandez</td>\n",
    "    <td>£106.8m (2023)</td>\n",
    "    <td>Chelsea</td>\n",
    "    <td>Benfica</td>\n",
    "  </tr>\n",
    "  <tr>\n",
    "    <td>Jack Grealish</td>\n",
    "    <td>£100m (2021)</td>\n",
    "    <td>Manchester City</td>\n",
    "    <td>Aston Villa</td>\n",
    "  </tr>\n",
    "  <tr>\n",
    "    <td>Romelu Lukaku</td>\n",
    "    <td>£97.5m (2021)</td>\n",
    "    <td>Chelsea</td>\n",
    "    <td>Inter Milan</td>\n",
    "  </tr>\n",
    "  <tr>\n",
    "    <td>Paul Pogba</td>\n",
    "    <td>£89m (2016)</td>\n",
    "    <td>Manchester United</td>\n",
    "    <td>Juventus</td>\n",
    "  </tr>\n",
    "</table>\n",
    "<br>\n",
    "<br>\n",
    "\n",
    "\n",
    "<p>Confirmed Chelsea signings in winter transfer market:</p>\n",
    "<ul>\n",
    "  <li>Enzo Fernandez - Chelsea, £106.8m</li>\n",
    "  <li>Mykhailo Mudryk - Shakhtar Donetsk, £88.5m</li>\n",
    "  <li>Benoit Badiashile - Monaco, £35m</li>\n",
    "  <li>David Datro Fofana - Molde, undisclosed</li>\n",
    "  <li>Andrey Santos - Vasco da Gama, undisclosed</li>\n",
    "  <li>Joao Felix - Atletico Madrid, loan</li>\n",
    "  <li>Noni Madueke - PSV, £29m</li> \n",
    "  <li>Malo Gusto - Lyon, loan</li>\n",
    "  <li>...</li>\n",
    "</ul>"
   ]
  }
 ],
 "metadata": {
  "kernelspec": {
   "display_name": "Python 3 (ipykernel)",
   "language": "python",
   "name": "python3"
  },
  "language_info": {
   "codemirror_mode": {
    "name": "ipython",
    "version": 3
   },
   "file_extension": ".py",
   "mimetype": "text/x-python",
   "name": "python",
   "nbconvert_exporter": "python",
   "pygments_lexer": "ipython3",
   "version": "3.11.1"
  }
 },
 "nbformat": 4,
 "nbformat_minor": 4
}
